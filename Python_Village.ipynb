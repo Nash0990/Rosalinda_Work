{
 "cells": [
  {
   "cell_type": "markdown",
   "metadata": {},
   "source": [
    "# Rosalinda Problems and Solutions Python3"
   ]
  },
  {
   "cell_type": "markdown",
   "metadata": {},
   "source": [
    "#### Q1 Varibles and Arithmatics\n",
    "\n",
    "\n",
    "\n",
    "**Given** : Two positive integers a and b, each less than 1000.\n",
    "\n",
    "**Return** : The integer corresponding to the square of the hypotenuse of the right triangle whose legs have lengths a and b.\n",
    "\n",
    "hypotenuse = sqrt(a2 + b2)\n",
    "\n"
   ]
  },
  {
   "cell_type": "code",
   "execution_count": 5,
   "metadata": {},
   "outputs": [
    {
     "name": "stdout",
     "output_type": "stream",
     "text": [
      "34\n",
      "1353493\n"
     ]
    }
   ],
   "source": [
    "def hypo(a,b):\n",
    "    return (a**2 + b**2)\n",
    "#Test\n",
    "print(hypo(3,5))\n",
    "print(hypo(807,838))"
   ]
  },
  {
   "cell_type": "markdown",
   "metadata": {},
   "source": [
    "#### Q2 Strings and List\n",
    "\n",
    "**Given**: A string s of length at most 200 letters and four integers a, b, c and d.\n",
    "\n",
    "**Return**: The slice of this string from indices a through b and c through d (with space in between), inclusively. In other words, we should include elements s[b] and s[d] in our slice. \n",
    "\n",
    "s[a:b+1],s[c:d+1]"
   ]
  },
  {
   "cell_type": "code",
   "execution_count": 8,
   "metadata": {},
   "outputs": [
    {
     "name": "stdout",
     "output_type": "stream",
     "text": [
      "Humpty Dumpty\n",
      "Cynops gratiosa\n"
     ]
    }
   ],
   "source": [
    "def Qes2(s,a,b,c,d):\n",
    "    return (f'{s[a:b+1]} {s[c:d+1]}')\n",
    "#Test\n",
    "print(Qes2('HumptyDumptysatonawallHumptyDumptyhadagreatfallAlltheKingshorsesandalltheKingsmenCouldntputHumptyDumptyinhisplaceagain',22,27,97,102))\n",
    "print(Qes2('0O6vJLq3lhNiLizh7ehP2XB205Dgm7OlaDe5qKNtHwEO9yrKVtkBeh45qL9J2keXYuRGSCxscq43RDF6FCynops9wuYPfFKLAN1i3LQNnU9ACGbm0gratiosaat2BYcRjSft6boXyz9tcI69YVBte0O9nMWpt21RJmgTjCUWdKUm5efxyg7zXEH0l.',81,86,113,120))"
   ]
  },
  {
   "cell_type": "markdown",
   "metadata": {},
   "source": [
    "#### Q3 Condition and Loops\n",
    "\n",
    "**Given:** Two positive integers a and b (a<b<10000).\n",
    "\n",
    "**Return:** The sum of all odd integers from a through b, inclusively.\n"
   ]
  },
  {
   "cell_type": "code",
   "execution_count": 12,
   "metadata": {},
   "outputs": [
    {
     "name": "stdout",
     "output_type": "stream",
     "text": [
      "7500\n",
      "15550101\n"
     ]
    }
   ],
   "source": [
    "def oddSum(a,b):\n",
    "    tot = 0\n",
    "    for num in range(a,b+1,):\n",
    "        if num % 2 != 0:\n",
    "            tot += num\n",
    "    \n",
    "    return tot\n",
    "#Test\n",
    "print(oddSum(100,200))\n",
    "print(oddSum(4341,9001))"
   ]
  },
  {
   "cell_type": "markdown",
   "metadata": {},
   "source": [
    "#### Q4\n",
    "**Given:** A file containing at most 1000 lines.\n",
    "\n",
    "**Return:** A file containing all the even-numbered lines from the original file. Assume 1-based numbering of lines."
   ]
  },
  {
   "cell_type": "code",
   "execution_count": 25,
   "metadata": {},
   "outputs": [
    {
     "data": {
      "text/plain": [
       "['Some things in life are bad, they can really make you mad\\n',\n",
       " 'Other things just make you swear and curse\\n',\n",
       " \"When you're chewing on life's gristle, don't grumble give a whistle\\n\",\n",
       " 'This will help things turn out for the best\\n',\n",
       " 'Always look on the bright side of life\\n',\n",
       " 'Always look on the right side of life\\n',\n",
       " \"If life seems jolly rotten, there's something you've forgotten\\n\",\n",
       " \"And that's to laugh and smile and dance and sing\\n\",\n",
       " \"When you're feeling in the dumps, don't be silly, chumps\\n\",\n",
       " \"Just purse your lips and whistle, that's the thing\\n\",\n",
       " 'So, always look on the bright side of death\\n',\n",
       " 'Just before you draw your terminal breath\\n',\n",
       " \"Life's a counterfeit and when you look at it\\n\",\n",
       " \"Life's a laugh and death's the joke, it's true\\n\",\n",
       " \"You see, it's all a show, keep them laughing as you go\\n\",\n",
       " 'Just remember the last laugh is on you\\n',\n",
       " 'Always look on the bright side of life\\n',\n",
       " 'And always look on the right side of life\\n',\n",
       " 'Always look on the bright side of life\\n',\n",
       " 'And always look on the right side of life\\n']"
      ]
     },
     "execution_count": 25,
     "metadata": {},
     "output_type": "execute_result"
    }
   ],
   "source": [
    "def evenLine(file):\n",
    "    with open(file,'r') as lines:\n",
    "        line=lines.readlines()\n",
    "    return line[1::2]\n",
    "\n",
    "#Test\n",
    "evenLine('rosalind_ini5.txt')"
   ]
  },
  {
   "cell_type": "markdown",
   "metadata": {},
   "source": [
    "#### Q5\n",
    "\n",
    "**Given:** A string s of length at most 10000 letters.\n",
    "\n",
    "**Return:** The number of occurrences of each word in s , where words are separated by spaces. Words are case-sensitive, and the lines in the output can be in any order.\n",
    "\n"
   ]
  },
  {
   "cell_type": "code",
   "execution_count": 34,
   "metadata": {},
   "outputs": [
    {
     "data": {
      "text/plain": [
       "Counter({'When': 1,\n",
       "         'I': 2,\n",
       "         'find': 1,\n",
       "         'myself': 1,\n",
       "         'in': 4,\n",
       "         'times': 1,\n",
       "         'of': 11,\n",
       "         'trouble': 1,\n",
       "         'Mother': 2,\n",
       "         'Mary': 2,\n",
       "         'comes': 2,\n",
       "         'to': 3,\n",
       "         'me': 4,\n",
       "         'Speaking': 3,\n",
       "         'words': 7,\n",
       "         'wisdom': 7,\n",
       "         'let': 30,\n",
       "         'it': 36,\n",
       "         'be': 41,\n",
       "         'And': 3,\n",
       "         'my': 1,\n",
       "         'hour': 1,\n",
       "         'darkness': 1,\n",
       "         'she': 1,\n",
       "         'is': 4,\n",
       "         'standing': 1,\n",
       "         'right': 1,\n",
       "         'front': 1,\n",
       "         'Let': 6,\n",
       "         'Whisper': 4,\n",
       "         'when': 2,\n",
       "         'the': 4,\n",
       "         'broken': 1,\n",
       "         'hearted': 1,\n",
       "         'people': 1,\n",
       "         'living': 1,\n",
       "         'world': 1,\n",
       "         'agree': 1,\n",
       "         'There': 4,\n",
       "         'will': 5,\n",
       "         'an': 4,\n",
       "         'answer': 4,\n",
       "         'For': 1,\n",
       "         'though': 1,\n",
       "         'they': 2,\n",
       "         'may': 1,\n",
       "         'parted': 1,\n",
       "         'there': 2,\n",
       "         'still': 2,\n",
       "         'a': 2,\n",
       "         'chance': 1,\n",
       "         'that': 2,\n",
       "         'see': 1,\n",
       "         'night': 1,\n",
       "         'cloudy': 1,\n",
       "         'light': 1,\n",
       "         'shines': 1,\n",
       "         'on': 1,\n",
       "         'Shine': 1,\n",
       "         'until': 1,\n",
       "         'tomorrow': 1,\n",
       "         'wake': 1,\n",
       "         'up': 1,\n",
       "         'sound': 1,\n",
       "         'music': 1,\n",
       "         'yeah': 2})"
      ]
     },
     "execution_count": 34,
     "metadata": {},
     "output_type": "execute_result"
    }
   ],
   "source": [
    "import collections\n",
    "\n",
    "def wordCount(input):\n",
    "    return collections.Counter(input.split())\n",
    "\n",
    "#Test\n",
    "wordCount('We tried list and we tried dicts also we tried Zen')\n",
    "wordCount('When I find myself in times of trouble Mother Mary comes to me Speaking words of wisdom let it be And in my hour of darkness she is standing right in front of me Speaking words of wisdom let it be Let it be let it be let it be let it be Whisper words of wisdom let it be And when the broken hearted people living in the world agree There will be an answer let it be For though they may be parted there is still a chance that they will see There will be an answer let it be Let it be let it be let it be let it be There will be an answer let it be Let it be let it be let it be let it be Whisper words of wisdom let it be Let it be let it be let it be let it be Whisper words of wisdom let it be And when the night is cloudy there is still a light that shines on me Shine until tomorrow let it be I wake up to the sound of music Mother Mary comes to me Speaking words of wisdom let it be Let it be let it be let it be yeah let it be There will be an answer let it be Let it be let it be let it be yeah let it be Whisper words of wisdom let it be')"
   ]
  },
  {
   "cell_type": "code",
   "execution_count": null,
   "metadata": {},
   "outputs": [],
   "source": []
  }
 ],
 "metadata": {
  "kernelspec": {
   "display_name": "Python 3",
   "language": "python",
   "name": "python3"
  },
  "language_info": {
   "codemirror_mode": {
    "name": "ipython",
    "version": 3
   },
   "file_extension": ".py",
   "mimetype": "text/x-python",
   "name": "python",
   "nbconvert_exporter": "python",
   "pygments_lexer": "ipython3",
   "version": "3.7.3"
  }
 },
 "nbformat": 4,
 "nbformat_minor": 2
}
